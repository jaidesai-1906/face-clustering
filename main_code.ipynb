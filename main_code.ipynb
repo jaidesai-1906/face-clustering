{
 "cells": [
  {
   "cell_type": "code",
   "execution_count": 8,
   "metadata": {},
   "outputs": [],
   "source": [
    "# Import necessary libraries\n",
    "import os\n",
    "import face_recognition\n",
    "import numpy as np\n",
    "from sklearn.cluster import DBSCAN\n",
    "from PIL import Image\n",
    "from shutil import copy2\n",
    "from sklearn.preprocessing import normalize\n"
   ]
  },
  {
   "cell_type": "code",
   "execution_count": 9,
   "metadata": {},
   "outputs": [],
   "source": [
    "# This function loads the images and encodes the faces found in them\n",
    "def load_and_encode_faces(image_paths):\n",
    "    encoded_faces = []\n",
    "    image_path_list = []\n",
    "    face_locations = []\n",
    "\n",
    "    for path in image_paths:\n",
    "        # Load the image file\n",
    "        image = face_recognition.load_image_file(path)\n",
    "        # Locate the faces in the image\n",
    "        face_locations_in_image = face_recognition.face_locations(image)\n",
    "        # Encode the faces in the image\n",
    "        face_encodings_in_image = face_recognition.face_encodings(image, face_locations_in_image)\n",
    "\n",
    "        # Only keep the images with faces\n",
    "        if len(face_encodings_in_image) > 0:\n",
    "            encoded_faces.extend(face_encodings_in_image)\n",
    "            image_path_list.extend([path] * len(face_encodings_in_image))\n",
    "            face_locations.extend(face_locations_in_image)\n",
    "\n",
    "    # Return the encoded faces, paths of the images, and the face locations\n",
    "    return np.array(encoded_faces), image_path_list, face_locations"
   ]
  },
  {
   "cell_type": "code",
   "execution_count": 10,
   "metadata": {},
   "outputs": [],
   "source": [
    "# This function clusters the encoded faces using the DBSCAN clustering algorithm\n",
    "def cluster_faces(encoded_faces, similarity_threshold):\n",
    "    # Normalize the face encodings\n",
    "    normalized_faces = normalize(encoded_faces)\n",
    "    \n",
    "    # Perform clustering\n",
    "    clustering_model = DBSCAN(metric='euclidean', eps=1 - similarity_threshold, min_samples=2, n_jobs=-1)\n",
    "    labels = clustering_model.fit_predict(normalized_faces)\n",
    "\n",
    "    # Return the cluster labels\n",
    "    return labels"
   ]
  },
  {
   "cell_type": "code",
   "execution_count": 11,
   "metadata": {},
   "outputs": [],
   "source": [
    "# Function to find all indices of a value in a list\n",
    "def find_indices(l, value):\n",
    "    return [\n",
    "        index for index, item in enumerate(l)\n",
    "        if item == value\n",
    "    ]"
   ]
  },
  {
   "cell_type": "code",
   "execution_count": 12,
   "metadata": {},
   "outputs": [],
   "source": [
    "# This function saves the clustered photos in separate folders\n",
    "def save_clustered_photos(image_paths, labels, encoded_faces, face_locations):\n",
    "    # Create an output directory if it doesn't exist\n",
    "    os.makedirs('output', exist_ok=True)\n",
    "    \n",
    "    # Initialize dictionary to hold clusters of images\n",
    "    image_clusters = {}\n",
    "    # Group the images by their cluster labels\n",
    "    for label, path in zip(labels, image_paths):\n",
    "        if label not in image_clusters:\n",
    "            image_clusters[label] = []\n",
    "        image_clusters[label].append(path)\n",
    "\n",
    "    # Deal with unassigned images (-1 label from DBSCAN algorithm)\n",
    "    unassigned_images = image_clusters.get(-1, [])\n",
    "    doubtful_faces = image_clusters.pop(-1, [])\n",
    "\n",
    "    # For each unassigned image, try to assign it to the closest cluster\n",
    "    for unassigned_image_path in unassigned_images:\n",
    "        unassigned_image_index = find_indices(image_paths, unassigned_image_path)\n",
    "        \n",
    "        # Process each face found in the image\n",
    "        for face in unassigned_image_index:\n",
    "            unassigned_image_encoding = encoded_faces[face]\n",
    "\n",
    "            # Initialize variables to track the best match\n",
    "            best_match_label = None\n",
    "            best_match_similarity = 0.55  # Initialize with the maximum possible value\n",
    "\n",
    "            # Iterate over each cluster to find the best match\n",
    "            for label in image_clusters.keys():\n",
    "                if label == -1:\n",
    "                    continue\n",
    "\n",
    "                # Compute the average encoding of the cluster\n",
    "                cluster_encodings = [encoded_faces[image_paths.index(path)] for path in image_clusters[label]]\n",
    "                cluster_mean_encoding = np.mean(cluster_encodings, axis=0)\n",
    "                # Compute the distance between the unassigned image and the average encoding\n",
    "                distance = np.linalg.norm(unassigned_image_encoding - cluster_mean_encoding)\n",
    "\n",
    "                # If this cluster is a better match, update the best match\n",
    "                if distance < best_match_similarity:\n",
    "                    best_match_similarity = distance\n",
    "                    best_match_label = label\n",
    "\n",
    "            # If a best match was found, assign the image to that cluster\n",
    "            if best_match_label is not None:\n",
    "                image_clusters[best_match_label].append(unassigned_image_path)\n",
    "\n",
    "    # Save the photos in the updated clusters\n",
    "    for label, paths in image_clusters.items():\n",
    "        # Create a new directory for the cluster\n",
    "        cluster_folder = f'output/cluster_{label}'\n",
    "        os.makedirs(cluster_folder, exist_ok=True)\n",
    "\n",
    "        # Save the representative face of the cluster as a separate image\n",
    "        representative_face_location = face_locations[np.where(labels == label)[0][0]]\n",
    "        top, right, bottom, left = representative_face_location\n",
    "        representative_image_path = image_paths[np.where(labels == label)[0][0]]\n",
    "        representative_image = face_recognition.load_image_file(representative_image_path)\n",
    "        cropped_face_image = representative_image[top:bottom, left:right]\n",
    "        cropped_face_pil_image = Image.fromarray(cropped_face_image)\n",
    "        cropped_face_output_path = os.path.join(cluster_folder, f'person_{label}.png')\n",
    "        cropped_face_pil_image.save(cropped_face_output_path)\n",
    "\n",
    "        # Save the images in the cluster\n",
    "        for path in paths:\n",
    "            output_path = os.path.join(cluster_folder, os.path.basename(path))\n",
    "            copy2(path, output_path)\n",
    "    \n",
    "    # Save the doubtful faces in a separate folder\n",
    "    doubtful_folder = 'output/doubtful (possibly clustered)'\n",
    "    os.makedirs(doubtful_folder, exist_ok=True)\n",
    "    for doubtful_image_path in doubtful_faces:\n",
    "        doubtful_image = face_recognition.load_image_file(doubtful_image_path)\n",
    "        doubtful_face_locations = face_recognition.face_locations(doubtful_image)\n",
    "        if doubtful_face_locations:\n",
    "            top, right, bottom, left = doubtful_face_locations[0]\n",
    "            cropped_doubtful_face_image = doubtful_image[top:bottom, left:right]\n",
    "            cropped_doubtful_face_pil_image = Image.fromarray(cropped_doubtful_face_image)\n",
    "            output_path = os.path.join(doubtful_folder, f'doubtful_{os.path.basename(doubtful_image_path)}')\n",
    "            cropped_doubtful_face_pil_image.save(output_path)"
   ]
  },
  {
   "cell_type": "code",
   "execution_count": 13,
   "metadata": {},
   "outputs": [
    {
     "name": "stdout",
     "output_type": "stream",
     "text": [
      "Photos have been successfully clustered based on faces and saved in the 'output' folder.\n"
     ]
    }
   ],
   "source": [
    "if __name__ == \"__main__\":\n",
    "    # Define the path of the folder containing the images\n",
    "    image_folder = 'path' #enter your image folder path here\n",
    "    image_paths = [os.path.join(image_folder, f) for f in os.listdir(image_folder) if f.endswith(('.jpg', '.png', '.jpeg'))]\n",
    "\n",
    "    # Load and encode the faces in the images\n",
    "    encoded_faces, image_path_list, face_locations = load_and_encode_faces(image_paths)\n",
    "    similarity_threshold = 0.68\n",
    "    # Cluster the encoded faces\n",
    "    labels = cluster_faces(encoded_faces, similarity_threshold)\n",
    "    # Save the clustered photos in separate folders\n",
    "    save_clustered_photos(image_path_list, labels, encoded_faces, face_locations)\n",
    "    print(\"Photos have been successfully clustered based on faces and saved in the 'output' folder.\")\n"
   ]
  }
 ],
 "metadata": {
  "kernelspec": {
   "display_name": "base",
   "language": "python",
   "name": "python3"
  },
  "language_info": {
   "codemirror_mode": {
    "name": "ipython",
    "version": 3
   },
   "file_extension": ".py",
   "mimetype": "text/x-python",
   "name": "python",
   "nbconvert_exporter": "python",
   "pygments_lexer": "ipython3",
   "version": "3.9.16 | packaged by conda-forge | (main, Feb  1 2023, 21:38:11) \n[Clang 14.0.6 ]"
  },
  "orig_nbformat": 4,
  "vscode": {
   "interpreter": {
    "hash": "c6e4e9f98eb68ad3b7c296f83d20e6de614cb42e90992a65aa266555a3137d0d"
   }
  }
 },
 "nbformat": 4,
 "nbformat_minor": 2
}
